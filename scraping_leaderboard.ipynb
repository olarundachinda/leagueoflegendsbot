{
 "cells": [
  {
   "cell_type": "code",
   "execution_count": 1,
   "metadata": {},
   "outputs": [],
   "source": [
    "# Installing Modules in Terminal\n",
    "# pip install selenium\n",
    "# pip install webdriver-manager\n",
    "\n",
    "# Importing Modules\n",
    "from selenium import webdriver\n",
    "from selenium.webdriver.common.by import By\n",
    "from selenium.webdriver.chrome.service import Service\n",
    "from webdriver_manager.chrome import ChromeDriverManager\n",
    "from bs4 import BeautifulSoup # scraping html\n",
    "import pandas as pd"
   ]
  },
  {
   "cell_type": "code",
   "execution_count": 2,
   "metadata": {},
   "outputs": [],
   "source": [
    "# Configure Chrome Options\n",
    "options = webdriver.ChromeOptions()\n",
    "options.add_argument(\"--headless\") # Runs in headless mode\n",
    "driver = webdriver.Chrome(service=Service(ChromeDriverManager().install()), options=options)"
   ]
  },
  {
   "cell_type": "code",
   "execution_count": 3,
   "metadata": {},
   "outputs": [],
   "source": [
    "# Get url\n",
    "url = \"https://www.leagueofgraphs.com/rankings/summoners/na\"\n",
    "driver.get(url)"
   ]
  },
  {
   "cell_type": "code",
   "execution_count": 4,
   "metadata": {},
   "outputs": [],
   "source": [
    "driver.implicitly_wait(5)"
   ]
  },
  {
   "cell_type": "code",
   "execution_count": 5,
   "metadata": {},
   "outputs": [],
   "source": [
    "soup = BeautifulSoup(driver.page_source, \"html.parser\")"
   ]
  },
  {
   "cell_type": "code",
   "execution_count": 6,
   "metadata": {},
   "outputs": [],
   "source": [
    "table = soup.find(\"table\",{\"class\": \"data_table summonerRankingsTable with_sortable_column\"})"
   ]
  },
  {
   "cell_type": "code",
   "execution_count": 7,
   "metadata": {},
   "outputs": [],
   "source": [
    "# Headers\n",
    "headers = [th.text.strip() for th in table.find_all(\"th\")]"
   ]
  },
  {
   "cell_type": "code",
   "execution_count": 8,
   "metadata": {},
   "outputs": [],
   "source": [
    "# Rows\n",
    "rows = []\n",
    "for tr in table.find_all(\"tr\")[1:]: \n",
    "    cells = tr.find_all(\"td\")\n",
    "    row = [cell.text.strip() for cell in cells]\n",
    "    rows.append(row)"
   ]
  },
  {
   "cell_type": "code",
   "execution_count": 9,
   "metadata": {},
   "outputs": [],
   "source": [
    "df = pd.DataFrame(rows, columns=headers)"
   ]
  },
  {
   "cell_type": "code",
   "execution_count": 10,
   "metadata": {},
   "outputs": [
    {
     "data": {
      "text/plain": [
       "<bound method ChromiumDriver.quit of <selenium.webdriver.chrome.webdriver.WebDriver (session=\"9e4a8c4c8e33c137f6dd2ae9d0812f45\")>>"
      ]
     },
     "execution_count": 10,
     "metadata": {},
     "output_type": "execute_result"
    }
   ],
   "source": [
    "driver.quit"
   ]
  },
  {
   "cell_type": "code",
   "execution_count": 11,
   "metadata": {},
   "outputs": [
    {
     "data": {
      "text/html": [
       "<div>\n",
       "<style scoped>\n",
       "    .dataframe tbody tr th:only-of-type {\n",
       "        vertical-align: middle;\n",
       "    }\n",
       "\n",
       "    .dataframe tbody tr th {\n",
       "        vertical-align: top;\n",
       "    }\n",
       "\n",
       "    .dataframe thead th {\n",
       "        text-align: right;\n",
       "    }\n",
       "</style>\n",
       "<table border=\"1\" class=\"dataframe\">\n",
       "  <thead>\n",
       "    <tr style=\"text-align: right;\">\n",
       "      <th></th>\n",
       "      <th>#</th>\n",
       "      <th>Name</th>\n",
       "      <th>Soloqueue</th>\n",
       "      <th>Draft Ranked Flex</th>\n",
       "      <th>Most played champions</th>\n",
       "    </tr>\n",
       "  </thead>\n",
       "  <tbody>\n",
       "    <tr>\n",
       "      <th>0</th>\n",
       "      <td>1.</td>\n",
       "      <td>dusklol#000\\n\\nNA\\n(#1)</td>\n",
       "      <td>Challenger\\n                                  ...</td>\n",
       "      <td></td>\n",
       "      <td></td>\n",
       "    </tr>\n",
       "    <tr>\n",
       "      <th>1</th>\n",
       "      <td>2.</td>\n",
       "      <td>Pentaless#penta\\n\\nNA\\n(#2)</td>\n",
       "      <td>Challenger\\n                                  ...</td>\n",
       "      <td></td>\n",
       "      <td></td>\n",
       "    </tr>\n",
       "    <tr>\n",
       "      <th>2</th>\n",
       "      <td>3.</td>\n",
       "      <td>never type#1998\\n\\nNA\\n(#3)</td>\n",
       "      <td>Challenger\\n                                  ...</td>\n",
       "      <td></td>\n",
       "      <td></td>\n",
       "    </tr>\n",
       "    <tr>\n",
       "      <th>3</th>\n",
       "      <td>4.</td>\n",
       "      <td>Alpha Smoker#420\\n\\nNA\\n(#4)</td>\n",
       "      <td>Challenger\\n                                  ...</td>\n",
       "      <td></td>\n",
       "      <td></td>\n",
       "    </tr>\n",
       "    <tr>\n",
       "      <th>4</th>\n",
       "      <td>5.</td>\n",
       "      <td>ToastyAlex#NA1\\n\\nNA\\n(#5)</td>\n",
       "      <td>Challenger\\n                                  ...</td>\n",
       "      <td>Diamond III\\n                                 ...</td>\n",
       "      <td></td>\n",
       "    </tr>\n",
       "    <tr>\n",
       "      <th>...</th>\n",
       "      <td>...</td>\n",
       "      <td>...</td>\n",
       "      <td>...</td>\n",
       "      <td>...</td>\n",
       "      <td>...</td>\n",
       "    </tr>\n",
       "    <tr>\n",
       "      <th>96</th>\n",
       "      <td>96.</td>\n",
       "      <td>Wx JmEkko#PWDL\\n\\nNA\\n(#96)</td>\n",
       "      <td>Challenger\\n                                  ...</td>\n",
       "      <td></td>\n",
       "      <td></td>\n",
       "    </tr>\n",
       "    <tr>\n",
       "      <th>97</th>\n",
       "      <td>97.</td>\n",
       "      <td>Azrael#NA3\\n\\nNA\\n(#97)</td>\n",
       "      <td>Challenger\\n                                  ...</td>\n",
       "      <td></td>\n",
       "      <td></td>\n",
       "    </tr>\n",
       "    <tr>\n",
       "      <th>98</th>\n",
       "      <td>98.</td>\n",
       "      <td>Z Score#1500\\n\\nNA\\n(#98)</td>\n",
       "      <td>Challenger\\n                                  ...</td>\n",
       "      <td>Diamond I\\n                                   ...</td>\n",
       "      <td></td>\n",
       "    </tr>\n",
       "    <tr>\n",
       "      <th>99</th>\n",
       "      <td>99.</td>\n",
       "      <td>shochi#001\\n\\nNA\\n(#99)</td>\n",
       "      <td>Challenger\\n                                  ...</td>\n",
       "      <td></td>\n",
       "      <td></td>\n",
       "    </tr>\n",
       "    <tr>\n",
       "      <th>100</th>\n",
       "      <td>100.</td>\n",
       "      <td>dont give up#love\\n\\nNA\\n(#100)</td>\n",
       "      <td>Challenger\\n                                  ...</td>\n",
       "      <td></td>\n",
       "      <td></td>\n",
       "    </tr>\n",
       "  </tbody>\n",
       "</table>\n",
       "<p>101 rows × 5 columns</p>\n",
       "</div>"
      ],
      "text/plain": [
       "        #                             Name  \\\n",
       "0      1.          dusklol#000\\n\\nNA\\n(#1)   \n",
       "1      2.      Pentaless#penta\\n\\nNA\\n(#2)   \n",
       "2      3.      never type#1998\\n\\nNA\\n(#3)   \n",
       "3      4.     Alpha Smoker#420\\n\\nNA\\n(#4)   \n",
       "4      5.       ToastyAlex#NA1\\n\\nNA\\n(#5)   \n",
       "..    ...                              ...   \n",
       "96    96.      Wx JmEkko#PWDL\\n\\nNA\\n(#96)   \n",
       "97    97.          Azrael#NA3\\n\\nNA\\n(#97)   \n",
       "98    98.        Z Score#1500\\n\\nNA\\n(#98)   \n",
       "99    99.          shochi#001\\n\\nNA\\n(#99)   \n",
       "100  100.  dont give up#love\\n\\nNA\\n(#100)   \n",
       "\n",
       "                                             Soloqueue  \\\n",
       "0    Challenger\\n                                  ...   \n",
       "1    Challenger\\n                                  ...   \n",
       "2    Challenger\\n                                  ...   \n",
       "3    Challenger\\n                                  ...   \n",
       "4    Challenger\\n                                  ...   \n",
       "..                                                 ...   \n",
       "96   Challenger\\n                                  ...   \n",
       "97   Challenger\\n                                  ...   \n",
       "98   Challenger\\n                                  ...   \n",
       "99   Challenger\\n                                  ...   \n",
       "100  Challenger\\n                                  ...   \n",
       "\n",
       "                                     Draft Ranked Flex Most played champions  \n",
       "0                                                                             \n",
       "1                                                                             \n",
       "2                                                                             \n",
       "3                                                                             \n",
       "4    Diamond III\\n                                 ...                        \n",
       "..                                                 ...                   ...  \n",
       "96                                                                            \n",
       "97                                                                            \n",
       "98   Diamond I\\n                                   ...                        \n",
       "99                                                                            \n",
       "100                                                                           \n",
       "\n",
       "[101 rows x 5 columns]"
      ]
     },
     "execution_count": 11,
     "metadata": {},
     "output_type": "execute_result"
    }
   ],
   "source": [
    "df"
   ]
  },
  {
   "cell_type": "code",
   "execution_count": 12,
   "metadata": {},
   "outputs": [],
   "source": [
    "# Delete Unwanted Colums\n",
    "del df[\"Soloqueue\"]\n",
    "del df[\"Draft Ranked Flex\"]\n",
    "del df[\"Most played champions\"]\n",
    "del df[\"#\"]"
   ]
  },
  {
   "cell_type": "code",
   "execution_count": 23,
   "metadata": {},
   "outputs": [],
   "source": [
    "df.to_csv(r'E:\\PROJECTS\\LEAGUE BOT\\challengers.csv')"
   ]
  }
 ],
 "metadata": {
  "kernelspec": {
   "display_name": "Python 3 (ipykernel)",
   "language": "python",
   "name": "python3"
  },
  "language_info": {
   "codemirror_mode": {
    "name": "ipython",
    "version": 3
   },
   "file_extension": ".py",
   "mimetype": "text/x-python",
   "name": "python",
   "nbconvert_exporter": "python",
   "pygments_lexer": "ipython3",
   "version": "3.13.1"
  }
 },
 "nbformat": 4,
 "nbformat_minor": 2
}
